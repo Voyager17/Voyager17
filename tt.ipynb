{
 "cells": [
  {
   "cell_type": "code",
   "execution_count": 4,
   "metadata": {},
   "outputs": [
    {
     "name": "stdout",
     "output_type": "stream",
     "text": [
      "x = 2\n",
      "12\n"
     ]
    },
    {
     "data": {
      "text/plain": [
       "11"
      ]
     },
     "execution_count": 4,
     "metadata": {},
     "output_type": "execute_result"
    }
   ],
   "source": [
    "class Point:\n",
    "    UGAGA = 11\n",
    "\n",
    "    def __init__(self, x, y=5):\n",
    "        self.x = x\n",
    "        print(f'x = {self.x}')\n",
    "        self.y = y\n",
    "\n",
    "    @classmethod\n",
    "    def test(cls):\n",
    "        UGAGA = cls.UGAGA + 1\n",
    "        print(UGAGA)\n",
    "\n",
    "    def uga(self,):\n",
    "        self.x *= x\n",
    "        print(f'x = {self.x}')\n",
    "        self.y *= x \n",
    "        return int (self.x),\n",
    "\n",
    "a = Point(y=5 , x=2)\n",
    "a.test()\n",
    "Point.UGAGA"
   ]
  }
 ],
 "metadata": {
  "kernelspec": {
   "display_name": "selenium_env",
   "language": "python",
   "name": "python3"
  },
  "language_info": {
   "codemirror_mode": {
    "name": "ipython",
    "version": 3
   },
   "file_extension": ".py",
   "mimetype": "text/x-python",
   "name": "python",
   "nbconvert_exporter": "python",
   "pygments_lexer": "ipython3",
   "version": "3.10.4"
  },
  "orig_nbformat": 4
 },
 "nbformat": 4,
 "nbformat_minor": 2
}
